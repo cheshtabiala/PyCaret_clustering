{
  "nbformat": 4,
  "nbformat_minor": 0,
  "metadata": {
    "colab": {
      "provenance": [],
      "include_colab_link": true
    },
    "kernelspec": {
      "display_name": "Python 3",
      "language": "python",
      "name": "python3"
    },
    "language_info": {
      "codemirror_mode": {
        "name": "ipython",
        "version": 3
      },
      "file_extension": ".py",
      "mimetype": "text/x-python",
      "name": "python",
      "nbconvert_exporter": "python",
      "pygments_lexer": "ipython3",
      "version": "3.8.5"
    }
  },
  "cells": [
    {
      "cell_type": "markdown",
      "metadata": {
        "id": "view-in-github",
        "colab_type": "text"
      },
      "source": [
        "<a href=\"https://colab.research.google.com/github/cheshtabiala/PyCaret_clustering/blob/main/MLusing_Pycaret.ipynb\" target=\"_parent\"><img src=\"https://colab.research.google.com/assets/colab-badge.svg\" alt=\"Open In Colab\"/></a>"
      ]
    },
    {
      "cell_type": "markdown",
      "metadata": {
        "id": "7nQSRI4Dim1Y"
      },
      "source": [
        "---\n",
        "# **PyCaret for Clustering**\n",
        "---\n",
        "- It is a bundle of many Machine Learning algorithms.\n",
        "- Only three lines of code is required to compare 20 ML models.\n",
        "- Pycaret is available for:\n",
        "    - Classification\n",
        "    - Regression\n",
        "    - Clustering\n",
        "\n",
        "---\n",
        "\n",
        "### **Self learning resource**\n",
        "1. Tutorial on Pycaret **<a href=\"https://pycaret.readthedocs.io/en/latest/tutorials.html\"> Click Here</a>**\n",
        "\n",
        "2. Documentation on Pycaret-Clustering: **<a href=\"https://pycaret.readthedocs.io/en/latest/api/clustering.html\"> Click Here </a>**\n",
        "\n",
        "---\n"
      ]
    },
    {
      "cell_type": "markdown",
      "metadata": {
        "id": "A30y-VtNim1h"
      },
      "source": [
        "### **(a) Install Pycaret**"
      ]
    },
    {
      "cell_type": "code",
      "metadata": {
        "id": "cF_mSA9Xim1j",
        "colab": {
          "base_uri": "https://localhost:8080/",
          "height": 52
        },
        "outputId": "fa14fbf5-e73a-4060-b7bc-a37be08efbc0"
      },
      "source": [
        "!pip install pycaret &> /dev/null\n",
        "print (\"Pycaret installed sucessfully!!\")\n",
        "!pip install ucimlrepo &> null print\n",
        "(\"ucimlrepo installed successfully\")"
      ],
      "execution_count": 1,
      "outputs": [
        {
          "output_type": "stream",
          "name": "stdout",
          "text": [
            "Pycaret installed sucessfully!!\n"
          ]
        },
        {
          "output_type": "execute_result",
          "data": {
            "text/plain": [
              "'ucimlrepo installed successfully'"
            ],
            "application/vnd.google.colaboratory.intrinsic+json": {
              "type": "string"
            }
          },
          "metadata": {},
          "execution_count": 1
        }
      ]
    },
    {
      "cell_type": "code",
      "source": [
        "!pip install ucimlrepo &> null print\n",
        "(\"ucimlrepo installed successfully\")"
      ],
      "metadata": {
        "id": "4GnsvQUjFcp3"
      },
      "execution_count": null,
      "outputs": []
    },
    {
      "cell_type": "markdown",
      "metadata": {
        "id": "UjvBYy0Lim1m"
      },
      "source": [
        "### **(b) Get the version of the pycaret**"
      ]
    },
    {
      "cell_type": "code",
      "metadata": {
        "id": "NHB2KMhZim1o"
      },
      "source": [
        "from pycaret.utils import version\n",
        "version()"
      ],
      "execution_count": null,
      "outputs": []
    },
    {
      "cell_type": "code",
      "source": [
        "import pandas as pd\n",
        "import seaborn as sns\n",
        "import plotly.express as px\n",
        "import matplotlib.pyplot as plt"
      ],
      "metadata": {
        "id": "8vEgon9fEyVv"
      },
      "execution_count": null,
      "outputs": []
    },
    {
      "cell_type": "code",
      "source": [
        "from sklearn.datasets import fetch_openml\n",
        "\n",
        "DataSet = fetch_openml(name='iris', version=1,as_frame=True)"
      ],
      "metadata": {
        "id": "LR5xt-BpFG8I"
      },
      "execution_count": null,
      "outputs": []
    },
    {
      "cell_type": "code",
      "source": [
        "# Features\n",
        "X = DataSet.data\n",
        "\n",
        "# Target variable\n",
        "y = DataSet.target\n",
        "\n"
      ],
      "metadata": {
        "id": "r6Qx8xbZF7Y9"
      },
      "execution_count": null,
      "outputs": []
    },
    {
      "cell_type": "code",
      "source": [
        "from pycaret.clustering import *\n",
        "model = setup(X, verbose = False)"
      ],
      "metadata": {
        "id": "8LlLaBkVGxei"
      },
      "execution_count": null,
      "outputs": []
    },
    {
      "cell_type": "code",
      "source": [
        "\n",
        "models_list = model.models().Name.index\n",
        "print(models_list)"
      ],
      "metadata": {
        "id": "1P_FCwakG7Wz"
      },
      "execution_count": null,
      "outputs": []
    },
    {
      "cell_type": "code",
      "source": [
        "models_list = models_list[[0,2,4,5]]\n",
        "print('Clustering Models Taken: ', models_list)"
      ],
      "metadata": {
        "id": "kmqpYg3cHCQK"
      },
      "execution_count": null,
      "outputs": []
    },
    {
      "cell_type": "code",
      "source": [
        "parameters ={ 'No Data Processing': {'transformation': False, 'normalize': False, 'pca': False}, 'Using Normalisation': {'transformation': False, 'normalize': True, 'pca': False}, 'Using Transform': {'transformation': True, 'normalize': False, 'pca': False}, 'Using PCA': {'transformation': False, 'normalize': False, 'pca': True}, 'T+N': {'transformation': True, 'normalize': True, 'pca': False}, 'T+N+PCA': {'transformation': True, 'normalize': True, 'pca': True}, }"
      ],
      "metadata": {
        "id": "4TzpWVaAHG0o"
      },
      "execution_count": null,
      "outputs": []
    },
    {
      "cell_type": "code",
      "source": [
        "results = []\n",
        "for model in models_list:\n",
        "    model_results = pd.DataFrame()\n",
        "    for cluster_size in range(3, 6):\n",
        "        for name, args in parameters.items():\n",
        "            exp = setup(X, verbose=False, **args)\n",
        "            create_model(model, num_clusters=cluster_size, verbose=False)\n",
        "            temp = exp.pull()\n",
        "            temp['name'] = name\n",
        "            temp['cluster_size'] = cluster_size\n",
        "            model_results = pd.concat([model_results, temp], ignore_index=True)\n",
        "    model_results.set_index(['name', 'cluster_size'], inplace=True)\n",
        "    model_results_transposed = model_results.sort_index().T\n",
        "    model_results_transposed.iloc[:3, :].to_csv(model + '.csv')\n",
        "    print(model)\n",
        "    display(model_results_transposed.iloc[:3, :])\n"
      ],
      "metadata": {
        "id": "3r6JctPMHLND"
      },
      "execution_count": null,
      "outputs": []
    },
    {
      "cell_type": "code",
      "source": [
        "\n",
        "from google.colab import files\n",
        "\n",
        "results = []\n",
        "for model in models_list:\n",
        "    model_results = pd.DataFrame()\n",
        "    for cluster_size in range(3, 6):\n",
        "        for name, args in parameters.items():\n",
        "            exp = setup(X, verbose=False, **args)\n",
        "            create_model(model, num_clusters=cluster_size, verbose=False)\n",
        "            temp = exp.pull()\n",
        "            temp['name'] = name\n",
        "            temp['cluster_size'] = cluster_size\n",
        "            model_results = pd.concat([model_results, temp], ignore_index=True)\n",
        "    model_results.set_index(['name', 'cluster_size'], inplace=True)\n",
        "    model_results_transposed = model_results.sort_index().T\n",
        "    csv_filename = model + '.csv'\n",
        "    model_results_transposed.iloc[:3, :].to_csv(csv_filename)\n",
        "    # Download CSV file\n",
        "    files.download(csv_filename)\n",
        "    print(f\"Downloaded {csv_filename}\")\n",
        "    display(model_results_transposed.iloc[:3, :])\n"
      ],
      "metadata": {
        "id": "Zd34fxF_Hoa_"
      },
      "execution_count": null,
      "outputs": []
    },
    {
      "cell_type": "markdown",
      "metadata": {
        "id": "BTLd3s--im1c"
      },
      "source": [
        "---\n",
        "# **1. Clustering - Part 1 (Kmean Clustering)**\n",
        "---\n",
        "### **1.1 Get the list of datasets available in pycaret (55)**"
      ]
    },
    {
      "cell_type": "code",
      "metadata": {
        "id": "veBU-f21im1x"
      },
      "source": [
        "from pycaret.datasets import get_data\n",
        "dataSets = get_data('index')"
      ],
      "execution_count": null,
      "outputs": []
    },
    {
      "cell_type": "markdown",
      "metadata": {
        "id": "YqoQ7k1FQ1TV"
      },
      "source": [
        "---\n",
        "### **1.2 Get the \"jewellery\" dataset**\n",
        "---"
      ]
    },
    {
      "cell_type": "code",
      "metadata": {
        "id": "41abL1k-im10",
        "scrolled": true
      },
      "source": [
        "DataSet = get_data(\"forest\")\n"
      ],
      "execution_count": null,
      "outputs": []
    },
    {
      "cell_type": "markdown",
      "metadata": {
        "id": "nRWYsJNVim1z"
      },
      "source": [
        "---\n",
        "### **1.3 Download the \"jewellery\" dataset to local system**\n",
        "---"
      ]
    },
    {
      "cell_type": "code",
      "metadata": {
        "id": "tN1O3vEZi963"
      },
      "source": [
        "DataSet.to_csv(\"DataSet.csv\")\n",
        "from google.colab import files\n",
        "files.download('DataSet.csv')"
      ],
      "execution_count": null,
      "outputs": []
    },
    {
      "cell_type": "markdown",
      "metadata": {
        "id": "E3BNV7YLim12"
      },
      "source": [
        "  ---\n",
        "### **1.4 \"Parameter setting\"  for clustering model**\n",
        "##### **Train/Test division, applying data pre-processing** {Sampling, Normalization, Transformation, PCA, Handaling of Outliers, Feature Selection}\n",
        "---"
      ]
    },
    {
      "cell_type": "code",
      "metadata": {
        "id": "c6KthRB9im14"
      },
      "source": [
        "from pycaret.clustering import *\n",
        "kMeanClusteringParameters = setup(DataSet)\n"
      ],
      "execution_count": null,
      "outputs": []
    },
    {
      "cell_type": "markdown",
      "metadata": {
        "id": "Kaevs6ROim18"
      },
      "source": [
        "---\n",
        "### **1.5 Building \"KMean\" clustering model**\n",
        "---"
      ]
    },
    {
      "cell_type": "code",
      "metadata": {
        "id": "XmPJbrOXim19"
      },
      "source": [
        "KMeanClusteringModel = create_model('kmeans', num_clusters=4)"
      ],
      "execution_count": null,
      "outputs": []
    },
    {
      "cell_type": "markdown",
      "metadata": {
        "id": "w8BLSpegim1_"
      },
      "source": [
        "---\n",
        "### **1.6 Assign Model - \"Assign the labels\" to the dataset**\n",
        "---\n",
        "\n"
      ]
    },
    {
      "cell_type": "code",
      "metadata": {
        "id": "QPY6bvTsim1_"
      },
      "source": [
        "kMeanPrediction = assign_model(KMeanClusteringModel)\n",
        "kMeanPrediction"
      ],
      "execution_count": null,
      "outputs": []
    },
    {
      "cell_type": "markdown",
      "metadata": {
        "id": "JpYOsl02fKdz"
      },
      "source": [
        "---\n",
        "### **1.7 Clustering in \"Three line of code\"**\n",
        "---"
      ]
    },
    {
      "cell_type": "code",
      "metadata": {
        "id": "egid_WXNfKd5"
      },
      "source": [
        "from pycaret.clustering import *\n",
        "\n",
        "kMeanClusteringParameters = setup(DataSet, verbose=False)\n",
        "KMeanClusteringModel = create_model('kmeans', num_clusters=4)\n",
        "kMeanPrediction = assign_model(KMeanClusteringModel)\n",
        "kMeanPrediction"
      ],
      "execution_count": null,
      "outputs": []
    },
    {
      "cell_type": "markdown",
      "metadata": {
        "id": "B2r61OBMs1N6"
      },
      "source": [
        "---\n",
        "### **1.8 \"Saving\" the result**\n",
        "---\n",
        "\n"
      ]
    },
    {
      "cell_type": "code",
      "metadata": {
        "id": "fLFB8lIEw7tO"
      },
      "source": [
        "kMeanPrediction.to_csv(\"KMeanResult.csv\")\n",
        "print(\"Result file save sucessfully!!\")"
      ],
      "execution_count": null,
      "outputs": []
    },
    {
      "cell_type": "markdown",
      "metadata": {
        "id": "GBSeK6umee97"
      },
      "source": [
        "---\n",
        "### **1.9 Download the \"result file\" to user local system**\n",
        "---"
      ]
    },
    {
      "cell_type": "code",
      "metadata": {
        "id": "U3sHTRPUee9-"
      },
      "source": [
        "from google.colab import files\n",
        "files.download('KMeanResult.csv')\n"
      ],
      "execution_count": null,
      "outputs": []
    },
    {
      "cell_type": "markdown",
      "metadata": {
        "id": "lNOYI6lAb3Iy"
      },
      "source": [
        "---\n",
        "# **2. Clustering: Saving and Loading the Model**\n",
        "---\n",
        "### **2.1 Save the \"trained model\"**\n",
        "---"
      ]
    },
    {
      "cell_type": "code",
      "metadata": {
        "id": "BTQqMaq_b3Iy"
      },
      "source": [
        "x = save_model(KMeanClusteringModel, 'kMeanClusteringModelFile')"
      ],
      "execution_count": null,
      "outputs": []
    },
    {
      "cell_type": "markdown",
      "metadata": {
        "id": "S7OBvt9yTY1s"
      },
      "source": [
        "---\n",
        "### **2.2 Download the \"trained model**\n",
        "---"
      ]
    },
    {
      "cell_type": "code",
      "metadata": {
        "id": "N2zEkJ1cTY1t"
      },
      "source": [
        "from google.colab import files\n",
        "files.download('kMeanClusteringModelFile.pkl')"
      ],
      "execution_count": null,
      "outputs": []
    },
    {
      "cell_type": "markdown",
      "metadata": {
        "id": "16b9zwS3b3Iz"
      },
      "source": [
        "---\n",
        "### **2.3 Load the model**\n",
        "---\n",
        "##### Use it, while working on **\"Anaconda/Jupyter notebook\"** on local machine"
      ]
    },
    {
      "cell_type": "code",
      "metadata": {
        "id": "z5KcVsi_b3Iz"
      },
      "source": [
        "KMeanClusteringModel1 = load_model('kMeanClusteringModelFile')"
      ],
      "execution_count": null,
      "outputs": []
    },
    {
      "cell_type": "markdown",
      "metadata": {
        "id": "EWwfAKm9VtbW"
      },
      "source": [
        "---\n",
        "### **2.4 Upload and Load the trained model to \"Colab Environment\"**\n",
        "---\n",
        "##### **Upload the trained model**"
      ]
    },
    {
      "cell_type": "code",
      "metadata": {
        "id": "me-SdPgUVtbX"
      },
      "source": [
        "from google.colab import files\n",
        "files.upload()                     # Uncomment this line"
      ],
      "execution_count": null,
      "outputs": []
    },
    {
      "cell_type": "markdown",
      "metadata": {
        "id": "1Ut_UVcUXw3L"
      },
      "source": [
        "##### **Load the trained model**"
      ]
    },
    {
      "cell_type": "code",
      "metadata": {
        "id": "tjTW7xtHXw3O"
      },
      "source": [
        "KMeanClusteringModel1 = load_model('kMeanClusteringModelFile')"
      ],
      "execution_count": null,
      "outputs": []
    },
    {
      "cell_type": "markdown",
      "metadata": {
        "id": "9GWuAHd7xQ8i"
      },
      "source": [
        "---\n",
        "# **3. Clustering: Cluster the new dataset (Unseen Data)**\n",
        "---\n",
        "### **3.1 Select some data or upload user dataset file**"
      ]
    },
    {
      "cell_type": "code",
      "metadata": {
        "id": "PDSIpXdjvy-8"
      },
      "source": [
        "# Select top 10 rows\n",
        "newData = get_data(\"forest\").iloc[:10]"
      ],
      "execution_count": null,
      "outputs": []
    },
    {
      "cell_type": "markdown",
      "metadata": {
        "id": "PSV8aKNnb3I3"
      },
      "source": [
        "---\n",
        "### **3.2 Make prediction on the new dataset (Unseen Data)**\n",
        "---"
      ]
    },
    {
      "cell_type": "code",
      "metadata": {
        "id": "jeWv6y4Xb3I3"
      },
      "source": [
        "newPredictions = predict_model(KMeanClusteringModel, data = newData)\n",
        "newPredictions"
      ],
      "execution_count": null,
      "outputs": []
    },
    {
      "cell_type": "markdown",
      "metadata": {
        "id": "2HZaEiiwb3I3"
      },
      "source": [
        "---\n",
        "### **3.3 Save the prediction result to csv**\n",
        "---"
      ]
    },
    {
      "cell_type": "code",
      "metadata": {
        "id": "MmCsLouDb3I4"
      },
      "source": [
        "newPredictions.to_csv(\"NewPredictions.csv\")\n",
        "print(\"Result file save sucessfully!!\")"
      ],
      "execution_count": null,
      "outputs": []
    },
    {
      "cell_type": "markdown",
      "metadata": {
        "id": "D9Y1VxIsFuqn"
      },
      "source": [
        "---\n",
        "# **4. Clustering: Ploting the Cluster**\n",
        "---\n",
        "```\n",
        "- Cluster PCA Plot (2d)          'cluster'\n",
        "- Cluster TSnE (3d)              'tsne'\n",
        "- Elbow Plot                     'elbow'\n",
        "- Silhouette Plot                'silhouette'\n",
        "- Distance Plot                  'distance'\n",
        "- Distribution Plot              'distribution'\n",
        "```"
      ]
    },
    {
      "cell_type": "markdown",
      "metadata": {
        "id": "yuCOkjBs0ZXw"
      },
      "source": [
        "---\n",
        "### **4.1 Evaluate Cluster Model**\n",
        "---"
      ]
    },
    {
      "cell_type": "code",
      "metadata": {
        "id": "FPiBWwaAFuqp"
      },
      "source": [
        "evaluate_model(KMeanClusteringModel)"
      ],
      "execution_count": null,
      "outputs": []
    },
    {
      "cell_type": "markdown",
      "metadata": {
        "id": "6A52f46Jb3I5"
      },
      "source": [
        "---\n",
        "### **4.2 2D-plot for Cluster**\n",
        "---"
      ]
    },
    {
      "cell_type": "code",
      "metadata": {
        "id": "YMxxIMBRb3I5"
      },
      "source": [
        "plot_model(KMeanClusteringModel, plot='cluster')"
      ],
      "execution_count": null,
      "outputs": []
    },
    {
      "cell_type": "markdown",
      "metadata": {
        "id": "edPeXVneb3I6"
      },
      "source": [
        "---\n",
        "### **4.3 3D-plot for Cluster**\n",
        "---"
      ]
    },
    {
      "cell_type": "code",
      "metadata": {
        "scrolled": true,
        "id": "mQiKiGlPb3I6"
      },
      "source": [
        "plot_model(KMeanClusteringModel, plot = 'tsne')"
      ],
      "execution_count": null,
      "outputs": []
    },
    {
      "cell_type": "markdown",
      "metadata": {
        "id": "g5qRklVXb3I6"
      },
      "source": [
        "---\n",
        "### **4.4 Elbow Plot**\n",
        "---"
      ]
    },
    {
      "cell_type": "code",
      "metadata": {
        "id": "31C9zkmPb3I7"
      },
      "source": [
        "plot_model(KMeanClusteringModel, plot = 'elbow')"
      ],
      "execution_count": null,
      "outputs": []
    },
    {
      "cell_type": "markdown",
      "metadata": {
        "id": "wSuwq3Q3b3I7"
      },
      "source": [
        "---\n",
        "### **4.5 Silhouette Plot**\n",
        "---"
      ]
    },
    {
      "cell_type": "code",
      "metadata": {
        "id": "VczW8SRob3I7"
      },
      "source": [
        "plot_model(KMeanClusteringModel, plot = 'silhouette')"
      ],
      "execution_count": null,
      "outputs": []
    },
    {
      "cell_type": "markdown",
      "metadata": {
        "id": "8CP8xTeYb3I8"
      },
      "source": [
        "---\n",
        "### **4.6 Distribution Plot**\n",
        "---"
      ]
    },
    {
      "cell_type": "code",
      "metadata": {
        "id": "EANDd4yib3I8"
      },
      "source": [
        "plot_model(KMeanClusteringModel, plot = 'distribution')"
      ],
      "execution_count": null,
      "outputs": []
    },
    {
      "cell_type": "markdown",
      "metadata": {
        "id": "NWwZUES8b3I9"
      },
      "source": [
        "---\n",
        "# **5. Compelete Code for Clustering (KMean)**\n",
        "---\n",
        "### **5.1 For Cluster = 3, 4, 5, 6**"
      ]
    },
    {
      "cell_type": "code",
      "metadata": {
        "id": "P6_gGI4mb3I-"
      },
      "source": [
        "from pycaret.datasets import get_data\n",
        "from pycaret.clustering import *\n",
        "\n",
        "DataSet = get_data('forest', verbose=False)\n",
        "setup(data = DataSet, verbose=False)\n",
        "\n",
        "print(\"For Cluster = 3\")\n",
        "x = create_model('kmeans', num_clusters = 3)\n",
        "\n",
        "print(\"For Cluster = 4\")\n",
        "x = create_model('kmeans', num_clusters = 4)\n",
        "\n",
        "print(\"For Cluster = 5\")\n",
        "x = create_model('kmeans', num_clusters = 5)\n",
        "\n",
        "print(\"For Cluster = 6\")\n",
        "x = create_model('kmeans', num_clusters = 6)"
      ],
      "execution_count": null,
      "outputs": []
    },
    {
      "cell_type": "markdown",
      "metadata": {
        "id": "XZyx5JF_too4"
      },
      "source": [
        "---\n",
        "### **5.2 Other Clustering Algorithms**\n",
        "---\n",
        "```\n",
        "- K-Means clustering                 'kmeans'\n",
        "- Affinity Propagation               'ap'\n",
        "- Mean shift clustering              'meanshift'\n",
        "- Spectral Clustering                'sc'\n",
        "- Agglomerative Clustering           'hclust'\n",
        "- Density-Based Spatial Clustering   'dbscan'\n",
        "- OPTICS Clustering                  'optics'\n",
        "- Birch Clustering                   'birch'\n",
        "- K-Modes clustering                 'kmodes'\n",
        "```"
      ]
    },
    {
      "cell_type": "markdown",
      "metadata": {
        "id": "zUfHO4wKim1_"
      },
      "source": [
        "---\n",
        "# **6. Clustering: Apply \"Data Preprocessing\"**\n",
        "---\n",
        "### **Read the Dataset**"
      ]
    },
    {
      "cell_type": "code",
      "metadata": {
        "id": "PlbzvU-Ib3I_"
      },
      "source": [
        "from pycaret.clustering import *\n",
        "from pycaret.datasets import get_data\n",
        "\n",
        "DataSet = get_data('forest')"
      ],
      "execution_count": null,
      "outputs": []
    },
    {
      "cell_type": "markdown",
      "metadata": {
        "id": "Au1ZSVL3b3JA"
      },
      "source": [
        "---\n",
        "### **6.1 Model Performance using \"Normalization\"**\n",
        "---\n",
        "### **6.1.1 Elbow Plot**\n"
      ]
    },
    {
      "cell_type": "code",
      "metadata": {
        "id": "X9zS6wx3EUDf"
      },
      "source": [
        "setup(data = DataSet, normalize = True, normalize_method = 'zscore', verbose=False)\n",
        "x = create_model('kmeans')\n",
        "plot_model(x, plot = 'elbow')"
      ],
      "execution_count": null,
      "outputs": []
    },
    {
      "cell_type": "code",
      "source": [],
      "metadata": {
        "id": "hdRP5Xcc1pKl"
      },
      "execution_count": null,
      "outputs": []
    },
    {
      "cell_type": "markdown",
      "metadata": {
        "id": "HD79yrviG7iJ"
      },
      "source": [
        "---\n",
        "### **6.1.2 Evaluation parameters for Cluster = 3, 4, 5, 6**\n",
        "---"
      ]
    },
    {
      "cell_type": "code",
      "metadata": {
        "id": "eLPoqBgEb3JA"
      },
      "source": [
        "setup(data = DataSet, normalize = True, normalize_method = 'zscore', verbose=False)\n",
        "\n",
        "print(\"For Cluster = 3\")\n",
        "x = create_model('kmeans', num_clusters = 6)\n",
        "\n",
        "print(\"For Cluster = 4\")\n",
        "x = create_model('kmeans', num_clusters = 7)\n",
        "\n",
        "print(\"For Cluster = 5\")\n",
        "x = create_model('kmeans', num_clusters = 8)\n",
        "\n",
        "print(\"For Cluster = 6\")\n",
        "x = create_model('kmeans', num_clusters = 9)\n"
      ],
      "execution_count": null,
      "outputs": []
    },
    {
      "cell_type": "markdown",
      "metadata": {
        "id": "AtxbZfXYUDAn"
      },
      "source": [
        "---\n",
        "### **6.1.3 3D Plot for Cluster = 6**\n",
        "---"
      ]
    },
    {
      "cell_type": "code",
      "metadata": {
        "id": "3fuD_nl_UDRo"
      },
      "source": [
        "setup(data = DataSet, normalize = True, normalize_method = 'zscore', verbose=False)\n",
        "x = create_model('kmeans', num_clusters = 6)\n",
        "plot_model(x, plot = 'tsne')"
      ],
      "execution_count": null,
      "outputs": []
    },
    {
      "cell_type": "markdown",
      "metadata": {
        "id": "iBYAlAA-0DYh"
      },
      "source": [
        "---\n",
        "### **6.2 Model Performance using \"Transformation\"**\n",
        "---\n",
        "\n",
        "### **6.2.1 Elbow Plot**\n"
      ]
    },
    {
      "cell_type": "code",
      "metadata": {
        "id": "imiaQks_0DYn"
      },
      "source": [
        "setup(data = DataSet, transformation = True, transformation_method = 'yeo-johnson', verbose=False)\n",
        "x = create_model('kmeans')\n",
        "plot_model(x, plot = 'elbow')"
      ],
      "execution_count": null,
      "outputs": []
    },
    {
      "cell_type": "markdown",
      "metadata": {
        "id": "YwAEcPe81V-H"
      },
      "source": [
        "---\n",
        "### **6.2.2 Evaluation parameters for Cluster = 3, 4, 5, 6**\n",
        "---"
      ]
    },
    {
      "cell_type": "code",
      "metadata": {
        "id": "YAjWTeL60DYi"
      },
      "source": [
        "setup(data = DataSet, transformation = True, transformation_method = 'yeo-johnson', verbose=False)\n",
        "\n",
        "print(\"For Cluster = 3\")\n",
        "x = create_model('kmeans', num_clusters = 3)\n",
        "\n",
        "print(\"For Cluster = 4\")\n",
        "x = create_model('kmeans', num_clusters = 4)\n",
        "\n",
        "print(\"For Cluster = 5\")\n",
        "x = create_model('kmeans', num_clusters = 5)\n",
        "\n",
        "print(\"For Cluster = 6\")\n",
        "x = create_model('kmeans', num_clusters = 6)"
      ],
      "execution_count": null,
      "outputs": []
    },
    {
      "cell_type": "markdown",
      "metadata": {
        "id": "YWdGYNJCC8_h"
      },
      "source": [
        "---\n",
        "### **6.3 Model Performance using \"PCA\"**\n",
        "---\n",
        "### **6.3.1 Elbow Plot**"
      ]
    },
    {
      "cell_type": "code",
      "metadata": {
        "id": "y8kaGr8lC8_n"
      },
      "source": [
        "setup(data = DataSet, pca = True, pca_method = 'linear', verbose=False)\n",
        "x = create_model('kmeans')\n",
        "plot_model(x, plot = 'elbow')"
      ],
      "execution_count": null,
      "outputs": []
    },
    {
      "cell_type": "markdown",
      "metadata": {
        "id": "mtB9y3liC8_p"
      },
      "source": [
        "---\n",
        "### **6.3.2 Evaluation parameters for Cluster = 3, 4, 5, 6**\n",
        "---"
      ]
    },
    {
      "cell_type": "code",
      "metadata": {
        "id": "cxX_g5pRC8_p"
      },
      "source": [
        "setup(data = DataSet, pca = True, pca_method = 'linear', verbose=False)\n",
        "\n",
        "print(\"For Cluster = 3\")\n",
        "x = create_model('kmeans', num_clusters = 3)\n",
        "\n",
        "print(\"For Cluster = 4\")\n",
        "x = create_model('kmeans', num_clusters = 4)\n",
        "\n",
        "print(\"For Cluster = 5\")\n",
        "x = create_model('kmeans', num_clusters = 5)\n",
        "\n",
        "print(\"For Cluster = 6\")\n",
        "x = create_model('kmeans', num_clusters = 6)"
      ],
      "execution_count": null,
      "outputs": []
    },
    {
      "cell_type": "markdown",
      "metadata": {
        "id": "QMtVqTQ6b3JB"
      },
      "source": [
        "---\n",
        "### **6.4 Model Performance using \"Transformation\" + \"Normalization\"**\n",
        "---\n",
        "### **6.4.1 Elbow Plot**"
      ]
    },
    {
      "cell_type": "code",
      "metadata": {
        "id": "UUeONHwyb3JB"
      },
      "source": [
        "setup(data = DataSet, transformation = True, normalize = True,\n",
        "      normalize_method = 'zscore', transformation_method = 'yeo-johnson', verbose=False)\n",
        "x = create_model('kmeans')\n",
        "plot_model(x, plot = 'elbow')"
      ],
      "execution_count": null,
      "outputs": []
    },
    {
      "cell_type": "markdown",
      "metadata": {
        "id": "fDoyKJGzqC3s"
      },
      "source": [
        "---\n",
        "### **6.4.2 Evaluation parameters for Cluster = 3, 4, 5, 6**\n",
        "---"
      ]
    },
    {
      "cell_type": "code",
      "metadata": {
        "id": "f8inz47RqC3u"
      },
      "source": [
        "setup(data = DataSet, transformation = True, normalize = True,\n",
        "      normalize_method = 'zscore', transformation_method = 'yeo-johnson', verbose=False)\n",
        "\n",
        "print(\"For Cluster = 3\")\n",
        "x = create_model('kmeans', num_clusters = 3)\n",
        "\n",
        "print(\"For Cluster = 4\")\n",
        "x = create_model('kmeans', num_clusters = 4)\n",
        "\n",
        "print(\"For Cluster = 5\")\n",
        "x = create_model('kmeans', num_clusters = 5)\n",
        "\n",
        "print(\"For Cluster = 6\")\n",
        "x = create_model('kmeans', num_clusters = 6)"
      ],
      "execution_count": null,
      "outputs": []
    },
    {
      "cell_type": "markdown",
      "metadata": {
        "id": "IT6y0pnIEVXO"
      },
      "source": [
        "---\n",
        "### **6.5 Model Performance using \"Transformation\" + \"Normalization\" + \"PCA\"**\n",
        "---\n",
        "### **6.5.1 Elbow Plot**"
      ]
    },
    {
      "cell_type": "code",
      "metadata": {
        "id": "CfB1ht6pEVXP"
      },
      "source": [
        "setup(data = DataSet, transformation = True, normalize = True, pca = True,\n",
        "      normalize_method = 'zscore', transformation_method = 'yeo-johnson',\n",
        "      pca_method = 'linear', verbose=False)\n",
        "x = create_model('kmeans')\n",
        "plot_model(x, plot = 'elbow')"
      ],
      "execution_count": null,
      "outputs": []
    },
    {
      "cell_type": "markdown",
      "metadata": {
        "id": "bI2xYlBIEVXQ"
      },
      "source": [
        "---\n",
        "### **6.5.2 Evaluation parameters for Cluster = 3, 4, 5, 6**\n",
        "---"
      ]
    },
    {
      "cell_type": "code",
      "metadata": {
        "id": "gVLZcptOEVXS"
      },
      "source": [
        "setup(data = DataSet, transformation = True, normalize = True, pca = True,\n",
        "      normalize_method = 'zscore',\n",
        "      transformation_method = 'yeo-johnson',\n",
        "      pca_method = 'linear', verbose=False)\n",
        "\n",
        "print(\"For Cluster = 3\")\n",
        "x = create_model('kmeans', num_clusters = 3)\n",
        "\n",
        "print(\"For Cluster = 4\")\n",
        "x = create_model('kmeans', num_clusters = 4)\n",
        "\n",
        "print(\"For Cluster = 5\")\n",
        "x = create_model('kmeans', num_clusters = 5)\n",
        "\n",
        "print(\"For Cluster = 6\")\n",
        "x = create_model('kmeans', num_clusters = 6)"
      ],
      "execution_count": null,
      "outputs": []
    },
    {
      "cell_type": "markdown",
      "metadata": {
        "id": "NPZElw5tb3JD"
      },
      "source": [
        "---\n",
        "# **7. Other Clustering Techniques**\n",
        "---\n",
        "```\n",
        "K-Means clustering                 'kmeans'\n",
        "Affinity Propagation               'ap'\n",
        "Mean shift clustering              'meanshift'\n",
        "Spectral Clustering                'sc'\n",
        "Agglomerative Clustering           'hclust'\n",
        "Density-Based Spatial Clustering   'dbscan'\n",
        "OPTICS Clustering                  'optics'\n",
        "Birch Clustering                   'birch'\n",
        "K-Modes clustering                 'kmodes'\n",
        "```"
      ]
    },
    {
      "cell_type": "markdown",
      "metadata": {
        "id": "rAOoe4H2b3JE"
      },
      "source": [
        "---\n",
        "### **7.1 Buildign Agglomerative (Hierarchical) clustering model**\n",
        "---"
      ]
    },
    {
      "cell_type": "code",
      "metadata": {
        "id": "NkBeuKlEb3JF"
      },
      "source": [
        "from pycaret.datasets import get_data\n",
        "from pycaret.clustering import *\n",
        "\n",
        "DataSet = get_data('forest', verbose=False)\n",
        "setup(data = DataSet, verbose=False)\n",
        "\n",
        "x = create_model('hclust')\n",
        "plot_model(x, plot = 'elbow')"
      ],
      "execution_count": null,
      "outputs": []
    },
    {
      "cell_type": "markdown",
      "metadata": {
        "id": "PnyhyJ3WXIQH"
      },
      "source": [
        "---\n",
        "### **7.1.1 Assign Model - \"Assign the labels\" to the dataset**\n",
        "---\n",
        "\n"
      ]
    },
    {
      "cell_type": "code",
      "metadata": {
        "id": "k1jLCA6bXRRi"
      },
      "source": [
        "hierarchicalModel = create_model('hclust', num_clusters=3)\n",
        "hierarchicalModelPrediction = assign_model(hierarchicalModel)\n",
        "hierarchicalModelPrediction"
      ],
      "execution_count": null,
      "outputs": []
    },
    {
      "cell_type": "markdown",
      "metadata": {
        "id": "qBufXyJ6b3JF"
      },
      "source": [
        "---\n",
        "### **7.1.2 Evaluate Agglomerative (Hierarchical) Clustering**\n",
        "---"
      ]
    },
    {
      "cell_type": "code",
      "metadata": {
        "scrolled": true,
        "id": "yxxm2PyKb3JG"
      },
      "source": [
        "evaluate_model(hierarchicalModel)"
      ],
      "execution_count": null,
      "outputs": []
    },
    {
      "cell_type": "markdown",
      "metadata": {
        "id": "a68Lnb0Qb3JH"
      },
      "source": [
        "---\n",
        "### **7.2 Density-Based Spatial Clustering**\n",
        "---"
      ]
    },
    {
      "cell_type": "code",
      "metadata": {
        "id": "m9jr3UZOb3JI"
      },
      "source": [
        "from pycaret.datasets import get_data\n",
        "from pycaret.clustering import *\n",
        "\n",
        "DataSet = get_data('forest', verbose=False)\n",
        "setup(data = DataSet, verbose=False)\n",
        "dbscanModel = create_model('dbscan')"
      ],
      "execution_count": null,
      "outputs": []
    },
    {
      "cell_type": "markdown",
      "metadata": {
        "id": "nhjOYqB5b3JJ"
      },
      "source": [
        "---\n",
        "### **7.2.1 Assign Model - \"Assign the labels\" to the dataset**\n",
        "---\n",
        "\n"
      ]
    },
    {
      "cell_type": "code",
      "metadata": {
        "id": "yBsY2zOeb3JK"
      },
      "source": [
        "dbscanModelPrediction = assign_model(dbscanModel)\n",
        "dbscanModelPrediction\n",
        "\n",
        "# Noisy samples are given the label -1 i.e. 'Cluster -1'"
      ],
      "execution_count": null,
      "outputs": []
    },
    {
      "cell_type": "markdown",
      "source": [
        "K-meann shift clustering\n"
      ],
      "metadata": {
        "id": "HsdSG4nnzBUu"
      }
    },
    {
      "cell_type": "code",
      "source": [
        "from pycaret.clustering import *\n",
        "\n",
        "meanshiftClusteringParameters = setup(DataSet, verbose=False)\n",
        "meanshiftClusteringModel = create_model('meanshift', num_clusters=4)\n",
        "meanshiftClusteringPrediction = assign_model(meanshiftClusteringModel)\n",
        "meanshiftClusteringPrediction"
      ],
      "metadata": {
        "id": "O765yB1VzBo0"
      },
      "execution_count": null,
      "outputs": []
    },
    {
      "cell_type": "code",
      "source": [
        "evaluate_model(meanshiftClusteringModel)"
      ],
      "metadata": {
        "id": "Lr7vMKav3xWB"
      },
      "execution_count": null,
      "outputs": []
    },
    {
      "cell_type": "code",
      "source": [
        "setup(data = DataSet, normalize = True, normalize_method = 'zscore', verbose=False)\n",
        "x = create_model('meanshift')\n",
        "plot_model(x, plot = 'elbow')"
      ],
      "metadata": {
        "id": "BeyJCm7R1rQ5"
      },
      "execution_count": null,
      "outputs": []
    },
    {
      "cell_type": "code",
      "source": [
        "setup(data = DataSet, normalize = True, normalize_method = 'zscore', verbose=False)\n",
        "\n",
        "print(\"For Cluster = 3\")\n",
        "x = create_model('meanshift', num_clusters = 6)\n",
        "\n",
        "print(\"For Cluster = 4\")\n",
        "x = create_model('meanshift', num_clusters = 7)\n",
        "\n",
        "print(\"For Cluster = 5\")\n",
        "x = create_model('meanshift', num_clusters = 8)\n",
        "\n",
        "print(\"For Cluster = 6\")\n",
        "x = create_model('meanshift', num_clusters = 9)"
      ],
      "metadata": {
        "id": "kum0gTBf2PKX"
      },
      "execution_count": null,
      "outputs": []
    },
    {
      "cell_type": "code",
      "source": [
        "setup(data = DataSet, normalize = True, normalize_method = 'zscore', verbose=False)\n",
        "x = create_model('meanshift', num_clusters = 6)\n",
        "plot_model(x, plot = 'tsne')"
      ],
      "metadata": {
        "id": "xAgZNqgI2sh1"
      },
      "execution_count": null,
      "outputs": []
    },
    {
      "cell_type": "code",
      "source": [
        "setup(data = DataSet, transformation = True, transformation_method = 'yeo-johnson', verbose=False)\n",
        "x = create_model('meanshift')\n",
        "plot_model(x, plot = 'elbow')"
      ],
      "metadata": {
        "id": "LJOJ7uwN21NQ"
      },
      "execution_count": null,
      "outputs": []
    },
    {
      "cell_type": "code",
      "source": [
        "setup(data = DataSet, transformation = True, transformation_method = 'yeo-johnson', verbose=False)\n",
        "\n",
        "print(\"For Cluster = 3\")\n",
        "x = create_model('meanshift', num_clusters = 3)\n",
        "\n",
        "print(\"For Cluster = 4\")\n",
        "x = create_model('meanshift', num_clusters = 4)\n",
        "\n",
        "print(\"For Cluster = 5\")\n",
        "x = create_model('meanshift', num_clusters = 5)\n",
        "\n",
        "print(\"For Cluster = 6\")\n",
        "x = create_model('meanshift', num_clusters = 6)"
      ],
      "metadata": {
        "id": "TSx4RVK41rT0"
      },
      "execution_count": null,
      "outputs": []
    },
    {
      "cell_type": "code",
      "source": [
        "setup(data = DataSet, pca = True, pca_method = 'linear', verbose=False)\n",
        "x = create_model('meanshift')\n",
        "plot_model(x, plot = 'elbow')"
      ],
      "metadata": {
        "id": "cCaAQTN61rW8"
      },
      "execution_count": null,
      "outputs": []
    },
    {
      "cell_type": "code",
      "source": [
        "setup(data = DataSet, transformation = True, normalize = True,\n",
        "      normalize_method = 'zscore', transformation_method = 'yeo-johnson', verbose=False)\n",
        "\n",
        "print(\"For Cluster = 3\")\n",
        "x = create_model('meanshift', num_clusters = 3)\n",
        "\n",
        "print(\"For Cluster = 4\")\n",
        "x = create_model('meanshift', num_clusters = 4)\n",
        "\n",
        "print(\"For Cluster = 5\")\n",
        "x = create_model('meanshift', num_clusters = 5)\n",
        "\n",
        "print(\"For Cluster = 6\")\n",
        "x = create_model('meanshift', num_clusters = 6)"
      ],
      "metadata": {
        "id": "_SGISWqF3Aq4"
      },
      "execution_count": null,
      "outputs": []
    },
    {
      "cell_type": "code",
      "source": [
        "setup(data = DataSet, transformation = True, normalize = True, pca = True,\n",
        "      normalize_method = 'zscore', transformation_method = 'yeo-johnson',\n",
        "      pca_method = 'linear', verbose=False)\n",
        "x = create_model('meanshift')\n",
        "plot_model(x, plot = 'elbow')"
      ],
      "metadata": {
        "id": "fryP-rhm3Rxx"
      },
      "execution_count": null,
      "outputs": []
    },
    {
      "cell_type": "code",
      "source": [
        "setup(data = DataSet, transformation = True, normalize = True, pca = True,\n",
        "      normalize_method = 'zscore',\n",
        "      transformation_method = 'yeo-johnson',\n",
        "      pca_method = 'linear', verbose=False)\n",
        "\n",
        "print(\"For Cluster = 3\")\n",
        "x = create_model('meanshift', num_clusters = 3)\n",
        "\n",
        "print(\"For Cluster = 4\")\n",
        "x = create_model('meanshift', num_clusters = 4)\n",
        "\n",
        "print(\"For Cluster = 5\")\n",
        "x = create_model('meanshift', num_clusters = 5)\n",
        "\n",
        "print(\"For Cluster = 6\")\n",
        "x = create_model('meanshift', num_clusters = 6)"
      ],
      "metadata": {
        "id": "pD5wt4D63W9-"
      },
      "execution_count": null,
      "outputs": []
    },
    {
      "cell_type": "code",
      "source": [
        "from pycaret.clustering import * model = setup(X, verbose = False)"
      ],
      "metadata": {
        "id": "hMcwzAf4EUQD"
      },
      "execution_count": null,
      "outputs": []
    },
    {
      "cell_type": "code",
      "source": [],
      "metadata": {
        "id": "RvEdv5rEEUSz"
      },
      "execution_count": null,
      "outputs": []
    },
    {
      "cell_type": "code",
      "source": [],
      "metadata": {
        "id": "a9RjKETOEUV2"
      },
      "execution_count": null,
      "outputs": []
    },
    {
      "cell_type": "markdown",
      "metadata": {
        "id": "8Me9nIXgb3JM"
      },
      "source": [
        "### **Key Points**"
      ]
    },
    {
      "cell_type": "markdown",
      "metadata": {
        "id": "hz0ZjGodb3JN"
      },
      "source": [
        "- num_clusters not required for some of the clustering Alorithms (Affinity Propagation ('ap'), Mean shift\n",
        "  clustering ('meanshift'), Density-Based Spatial Clustering ('dbscan') and OPTICS Clustering ('optics')).\n",
        "- num_clusters param for these models are automatically determined.\n",
        "\n",
        "- When fit doesn't converge in Affinity Propagation ('ap') model, all datapoints are labelled as -1.\n",
        "\n",
        "- Noisy samples are given the label -1, when using Density-Based Spatial  ('dbscan') or OPTICS Clustering ('optics').\n",
        "\n",
        "- OPTICS ('optics') clustering may take longer training times on large datasets.\n"
      ]
    },
    {
      "cell_type": "markdown",
      "metadata": {
        "id": "hICikRsyim2Z"
      },
      "source": [
        "---\n",
        "# **8. Deploy the model on AWS**\n",
        "---\n",
        "**<a href=\"https://pycaret.readthedocs.io/en/latest/api/clustering.html#pycaret.clustering.deploy_model\">Click Here</a>**"
      ]
    }
  ]
}